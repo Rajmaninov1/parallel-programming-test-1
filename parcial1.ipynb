{
  "nbformat": 4,
  "nbformat_minor": 0,
  "metadata": {
    "colab": {
      "provenance": []
    },
    "kernelspec": {
      "name": "python3",
      "display_name": "Python 3"
    },
    "language_info": {
      "name": "python"
    }
  },
  "cells": [
    {
      "cell_type": "markdown",
      "source": [
        "### Integrantes:\n",
        "\n",
        "- Julian Felipe Tolosa Villamizar - 2170107\n",
        "- Juan Camilo Pertuz - \n",
        "- Diego - "
      ],
      "metadata": {
        "id": "_NqarMEJlT3G"
      }
    },
    {
      "cell_type": "markdown",
      "source": [
        "# Calculo del movimiento de n cuerpos usando fuerza de gravedad"
      ],
      "metadata": {
        "id": "Wg4a0VNqnJs8"
      }
    },
    {
      "cell_type": "markdown",
      "source": [
        "## 1. Escribir un programa que permita simular el movimiento de n cuerpos, usando la fuerza de gravedad. Los n cuerpos se limitarán a 5 cuerpos, correspondientes a los planetas exteriores del sistema solar y al sol, usando las siguientes condiciones iniciales:\n",
        "\n",
        "Sol: posición = (0.0, 0.0, 0.0) ; velocidad = (0.0, 0.0, 0.0); masa = 1.989e30\n",
        "\n",
        "Júpiter: posición = (778.570e9, 0.0, 0.0); velocidad = (0.0, 13e3, 0.0); masa = 1898.19e24\n",
        "\n",
        "Saturno: posición = (1433.529e9, 0.0, 0.0); velocidad = (0.0, 9.68e3, 0.0); masa = 568.34e24 \n",
        "\n",
        "Urano: posición = (2872.463e9, 0.0, 0.0); velocidad = (0.0, 6.80e3, 0.0); masa = 86.813e24 \n",
        "\n",
        "Neptuno: posición = (4495.060e9, 0.0, 0.0); velocidad = (0.0, 5.43e3, 0.0); masa = 102.413e24 \n",
        "\n",
        "El programa debe tener estructuras de datos que permitan:\n",
        "• Guardar la posición de cada partícula (planeta) para un tiempo t.\n",
        "• Guardar la velocidad de cada partícula (planeta) para un tiempo t.\n",
        "• Condiciones inciales y de finalización (con ejemplos): t0 = 0, dt = 86400, tfin = 86400 * 365 * 10 (Esto es una década en segundos.), G = 6.67e-11 (constante de gravitación universal).\n",
        "\n",
        "Las aceleraciones para cada partícula se calculan de la forma:\n",
        "\n",
        "![image.png](data:image/png;base64,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)\n",
        "\n",
        "Para casos donde i<>j, con a un vector de tres dimensiones, y:\n",
        "\n",
        "![image.png](data:image/png;base64,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)\n",
        "\n",
        "Las velocidades de cada cuerpo se calculan a partir de las aceleraciones, y las posiciones a partir de las velocidades:\n",
        "\n",
        "![image.png](data:image/png;base64,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)\n"
      ],
      "metadata": {
        "id": "FwPypFlMjAvP"
      }
    },
    {
      "cell_type": "code",
      "source": [
        "%%writefile n_bodies.cpp\n",
        "\n",
        "#include <iostream>\n",
        "#include <stdio.h>\n",
        "#include <stdlib.h>\n",
        "#include <vector>\n",
        "#include <cmath>\n",
        "using namespace std;\n",
        "\n",
        "int main()\n",
        "{\n",
        "\n",
        "    //variables a utilizar\n",
        "    double f[5]={0,0,0,0,0}, a[5] = {0,0,0,0,0};\n",
        "    //constantes universales\n",
        "    double t = 0, dt = 86400, T = 86400 * 365 * 10, G = 6.67e-11;\n",
        "    // inicializacion sistema solar\n",
        "    vector <vector<double>> sis_sol(5);\n",
        "    vector <double> sol = { 0.0,0.0,1.989e30 };\n",
        "    sis_sol[0]=sol;\n",
        "    vector <double> jupiter = { 778.570e9,13e3,1898.19e24};\n",
        "    sis_sol[1] = jupiter;\n",
        "    vector <double> saturno = { 1433.529e9,9.68e3,568.34e24 };\n",
        "    sis_sol[2] = saturno;\n",
        "    vector <double> urano = { 2872.463e9,6.80e3,86.813e24 };\n",
        "    sis_sol[3] = urano;\n",
        "    vector <double> neptuno = { 4495.060e9,5.43e3,102.413e24 };\n",
        "    sis_sol[4] = neptuno;\n",
        "\n",
        "    cout << \"Valores iniciales:\" << \"\\n\";\n",
        "    cout << \"t_inicial = 0 \\n dt = 86400 \\n G = 6.67e-11 \\n t_final = 315'360.000 segundos\\n\";\n",
        "    cout << \"orden de impresion, sol(1), jupiter(2), saturno(3), urano(4) y neptuno(5). \\n\";\n",
        "    for (int i = 0; i < 5; i++)\n",
        "    {\n",
        "        cout << i + 1<<\"\\n\";\n",
        "        cout << \"posicion: \" << sis_sol[i][0] << \"\\n\";\n",
        "        cout << \"velocidad: \" << sis_sol[i][1] << \"\\n\";\n",
        "        cout << \"masa: \" << sis_sol[i][2] << \"\\n\";\n",
        "        cout << \"\\n\";\n",
        "    }\n",
        "\n",
        "    for (double t = 0; t < T; t++)\n",
        "    {\n",
        "        double f[5] = { 0,0,0,0,0 }, a[5] = { 0,0,0,0,0 };\n",
        "        \n",
        "        for (int i = 0; i < 5; i++)\n",
        "        {\n",
        "            for (int j = 0; j < 5; j++)\n",
        "            {\n",
        "                if (i<j || i>j)\n",
        "                {\n",
        "                    f[i] += (G * sis_sol[i][2] * sis_sol[j][2]) / pow(sis_sol[i][0] - sis_sol[j][0], 2);\n",
        "                }\n",
        "            }\n",
        "            a[i] = f[i] / (sis_sol[i][2]);\n",
        "        }\n",
        "\n",
        "        for (int i = 0; i < 5; i++)\n",
        "        {\n",
        "            sis_sol[i][1] = sis_sol[i][1] + (a[i] * dt);\n",
        "            sis_sol[i][0] = sis_sol[i][0] + (sis_sol[i][1] * dt);\n",
        "\n",
        "        }\n",
        "    }\n",
        "    cout << \"Valores finales:\" << \"\\n\";\n",
        "    cout << \"orden de impresion, sol(1), jupiter(2), saturno(3), urano(4) y neptuno(5). \\n\";\n",
        "    for (int i = 0; i < 5; i++)\n",
        "    {\n",
        "        cout << i + 1 << \"\\n\";\n",
        "        cout << \"posicion: \" << sis_sol[i][0] << \"\\n\";\n",
        "        cout << \"velocidad: \" << sis_sol[i][1] << \"\\n\";\n",
        "        cout << \"masa: \" << sis_sol[i][2] << \"\\n\";\n",
        "        cout << \"\\n\";\n",
        "    }\n",
        "}\n"
      ],
      "metadata": {
        "colab": {
          "base_uri": "https://localhost:8080/"
        },
        "id": "tJjozZswibRn",
        "outputId": "831e35ce-4924-436a-d81f-be9c562e804f"
      },
      "execution_count": 7,
      "outputs": [
        {
          "output_type": "stream",
          "name": "stdout",
          "text": [
            "Overwriting n_bodies.cpp\n"
          ]
        }
      ]
    },
    {
      "cell_type": "code",
      "source": [
        "!gcc -o n_bodies_output.out n_bodies.cpp -lm -xc++ -lstdc++ -shared-libgcc\n",
        "!./n_bodies_output.out"
      ],
      "metadata": {
        "colab": {
          "base_uri": "https://localhost:8080/"
        },
        "id": "Za8cZXyujRhR",
        "outputId": "cb140f47-643b-4a3b-996f-6d6cb6cb36ff"
      },
      "execution_count": 11,
      "outputs": [
        {
          "output_type": "stream",
          "name": "stdout",
          "text": [
            "Valores iniciales:\n",
            "t_inicial = 0 \n",
            " dt = 86400 \n",
            " G = 6.67e-11 \n",
            " t_final = 315'360.000 segundos\n",
            "orden de impresion, sol(1), jupiter(2), saturno(3), urano(4) y neptuno(5). \n",
            "1\n",
            "posicion: 0\n",
            "velocidad: 0\n",
            "masa: 1.989e+30\n",
            "\n",
            "2\n",
            "posicion: 7.7857e+11\n",
            "velocidad: 13000\n",
            "masa: 1.89819e+27\n",
            "\n",
            "3\n",
            "posicion: 1.43353e+12\n",
            "velocidad: 9680\n",
            "masa: 5.6834e+26\n",
            "\n",
            "4\n",
            "posicion: 2.87246e+12\n",
            "velocidad: 6800\n",
            "masa: 8.6813e+25\n",
            "\n",
            "5\n",
            "posicion: 4.49506e+12\n",
            "velocidad: 5430\n",
            "masa: 1.02413e+26\n",
            "\n",
            "Valores finales:\n",
            "orden de impresion, sol(1), jupiter(2), saturno(3), urano(4) y neptuno(5). \n",
            "1\n",
            "posicion: 2.79751e+14\n",
            "velocidad: 10.2673\n",
            "masa: 1.989e+30\n",
            "\n",
            "2\n",
            "posicion: 8.08477e+17\n",
            "velocidad: 29672.1\n",
            "masa: 1.89819e+27\n",
            "\n",
            "3\n",
            "posicion: 1.95603e+18\n",
            "velocidad: 71790.7\n",
            "masa: 5.6834e+26\n",
            "\n",
            "4\n",
            "posicion: 2.04003e+18\n",
            "velocidad: 74875.3\n",
            "masa: 8.6813e+25\n",
            "\n",
            "5\n",
            "posicion: 5.3093e+18\n",
            "velocidad: 194867\n",
            "masa: 1.02413e+26\n",
            "\n"
          ]
        }
      ]
    },
    {
      "cell_type": "markdown",
      "source": [
        "## 2. Analizar las oportunidades de paralelización del algoritmo, identificando posibles: particionamiento, comunicación y aglomeración. Explicar claramente. \n",
        "\n",
        "Para La paralelizacion del algoritmo poseemos solo en dos partes del codigo, una en la suma de fuerzas ya que son independientes,  y tambien al hallar las aceleraciones usando particionamiento para asi mejorar el rendimiento."
      ],
      "metadata": {
        "id": "G6GA7PTc7M4w"
      }
    },
    {
      "cell_type": "markdown",
      "source": [
        "# Integral definida por método Montecarlo"
      ],
      "metadata": {
        "id": "fc9Z9eoGaRwH"
      }
    },
    {
      "cell_type": "markdown",
      "source": [
        "## 3. Realizar un análisis de complejidad del algoritmo, obteniendo un valor de Gran O para el problema.\n",
        "\n",
        "Revisando el programa tenemos 2 ciclos de for anidados uno con 3 for anidados y otros con 2 for anidados siguiendo el analisis de complejidad tendriamos un O(n^3) ya que el segundo ciclo con dos for es menor, la complejidad la mantiene el 3 dejandola de esa manera. una complejidad de forma exponencial. la cual dependera del tiempo en este caso que es la variable independiente."
      ],
      "metadata": {
        "id": "NdlrDhu5U1wd"
      }
    },
    {
      "cell_type": "markdown",
      "source": [
        "## 4. Escribir un programa que permita aproximar el valor de una integral definida por el método de Monte Carlo. \n",
        "\n",
        "La integral definida será \n",
        "\n",
        "![image.png](data:image/png;base64,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)"
      ],
      "metadata": {
        "id": "rIhawisFjdQQ"
      }
    },
    {
      "cell_type": "code",
      "execution_count": 9,
      "metadata": {
        "colab": {
          "base_uri": "https://localhost:8080/"
        },
        "id": "S7tnV3xrg87c",
        "outputId": "0324f811-6d54-42f6-88c1-64bfe349a4a7"
      },
      "outputs": [
        {
          "output_type": "stream",
          "name": "stdout",
          "text": [
            "Writing montecarlo_integration.cpp\n"
          ]
        }
      ],
      "source": [
        "%%writefile montecarlo_integration.cpp\n",
        "\n",
        "#include <iostream>\n",
        "#include <cstdlib>\n",
        "#include <cmath>\n",
        "#include <time.h>\n",
        "\n",
        "double f(double x);\n",
        "double monteCarloEstimate(double lowBound, double upBound, int iterations);\n",
        "double simpson(double a, double b, int n);\n",
        "\n",
        "\n",
        "int main()\n",
        "{\n",
        "    double lowerBound = 1;\n",
        "    double upperBound = 50;\n",
        "    int iterations_arr[] = {1000000, 100000000};\n",
        "\tdouble standar_integral = simpson(lowerBound, upperBound, 1000);\n",
        "\n",
        "    for(int iterations: iterations_arr)\n",
        "    {\n",
        "        clock_t tStart = clock();\n",
        "\n",
        "        double estimate = monteCarloEstimate(lowerBound, upperBound, iterations);\n",
        "\n",
        "\t\tprintf(\"Time taken: %.4fs\\n\", (double)(clock() - tStart)/CLOCKS_PER_SEC);\n",
        "\n",
        "        printf(\"Estimate for pow(x,2) in range %.1f -> %.1f is %.2f (%i iterations)\\n\",\n",
        "                lowerBound, upperBound, estimate, iterations);\n",
        "\n",
        "        double error = (estimate - standar_integral) / standar_integral;\n",
        "        printf(\"error with respect to simpson rule: %.5f\\n\\n\", error);\n",
        "    }\n",
        "\n",
        "\treturn 0;\n",
        "}\n",
        "\n",
        "double f(double x)\n",
        "//Function to integrate\n",
        "{\n",
        "\treturn pow(x,2);\n",
        "}\n",
        "\n",
        "double monteCarloEstimate(double lowBound, double upBound, int iterations)\n",
        "//Function to execute Monte Carlo integration on predefined function\n",
        "{\n",
        "\tdouble totalSum = 0;\n",
        "\tdouble randNum, functionVal;\n",
        "\n",
        "\tint iter = 0;\n",
        "\n",
        "    for (iter = 0; iter < iterations; ++iter)\n",
        "\t{\n",
        "\t\t//Select a random number within the limits of integration\n",
        "\t\trandNum = lowBound + (float(rand())/RAND_MAX) * (upBound-lowBound);\n",
        "\n",
        "\t\t//Sample the function's values\n",
        "\t\tfunctionVal = f(randNum);\n",
        "\n",
        "\t\t//Add the f(x) value to the running sum\n",
        "\t\ttotalSum += functionVal;\n",
        "\t}\n",
        "\n",
        "\tdouble estimate = (upBound-lowBound)*totalSum/iterations;\n",
        "\n",
        "\treturn estimate;\n",
        "}\n",
        "\n",
        "double simpson(double a, double b, int n)\n",
        "//Function to calculate definite integrals with simpson method\n",
        "{\n",
        "\tdouble h, x[n+1], sum = 0;\n",
        "\tint j;\n",
        "\th = (b-a)/n;\n",
        "\t\n",
        "\tx[0] = a;\n",
        "\t\n",
        "\tfor(j=1; j<=n; j++)\n",
        "\t{\n",
        "\t\tx[j] = a + h*j;\n",
        "\t}\n",
        "\t\n",
        "\tfor(j=1; j<=n/2; j++)\n",
        "\t{\n",
        "\t\tsum += f(x[2*j - 2]) + 4*f(x[2*j - 1]) + f(x[2*j]);\n",
        "\t}\n",
        "\t\n",
        "\treturn sum*h/3;\n",
        "}\n"
      ]
    },
    {
      "cell_type": "code",
      "source": [
        "!gcc -o montecarlo_integration_output.out montecarlo_integration.cpp -lm -xc++ -lstdc++ -shared-libgcc\n",
        "!./montecarlo_integration_output.out"
      ],
      "metadata": {
        "colab": {
          "base_uri": "https://localhost:8080/"
        },
        "id": "VzwM4MLyiJSF",
        "outputId": "166b63da-b191-4c85-c3dc-160c6aa22a0b"
      },
      "execution_count": 10,
      "outputs": [
        {
          "output_type": "stream",
          "name": "stdout",
          "text": [
            "Time taken: 0.0282s\n",
            "Estimate for pow(x,2) in range 1.0 -> 50.0 is 41663.37 (1000000 iterations)\n",
            "error with respect to simpson rule: -0.00007\n",
            "\n",
            "Time taken: 2.8304s\n",
            "Estimate for pow(x,2) in range 1.0 -> 50.0 is 41666.82 (100000000 iterations)\n",
            "error with respect to simpson rule: 0.00001\n",
            "\n"
          ]
        }
      ]
    },
    {
      "cell_type": "markdown",
      "source": [
        "## 5. Analizar las oportunidades de paralelización del algoritmo. Identificando posibles: particionamiento, comunicación y aglomeración. Explicar claramente.\n"
      ],
      "metadata": {
        "id": "OTF-ZRD-aIv1"
      }
    },
    {
      "cell_type": "markdown",
      "source": [
        "Se podría repartir el número de iteraciones del único for encontrado en el método montecarlo entre la cantidad total de procesadores que haya dispoibles para dividir la carga de procesamiento dejando una variable compartida sobre la que se sumarán los resultados de cada iteración."
      ],
      "metadata": {
        "id": "Sk6lAc9jadGT"
      }
    },
    {
      "cell_type": "markdown",
      "source": [
        "## 6. Realizar un análisis de complejidad del algoritmo, obteniendo un valor de Gran O para el problema.\n"
      ],
      "metadata": {
        "id": "Y2CMx5yEb0TR"
      }
    },
    {
      "cell_type": "markdown",
      "source": [
        "El algoritmo la aproximación de integral definida con método montecarlo tiene un solo iterador for, el cual contiene solo operaciones lineales, por lo que el, lo que nos indica que el problema tiene un nivel de complejidad Big(O) de n (crecimiento lineal). Esto puede comprobarse en la ejecución del código donde al multiplicar por 100 el número de iteraciones el tiempo de ejecución también aumenta 100 veces."
      ],
      "metadata": {
        "id": "n0zvIDVMb3JX"
      }
    }
  ]
}